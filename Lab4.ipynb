{
 "cells": [
  {
   "cell_type": "markdown",
   "id": "ff6cbbb2",
   "metadata": {},
   "source": [
    "## Лабораторная работа №4\n",
    "## Задание № 1\n",
    "Имеется словарь с описанием предметов: things = {'карандаш': 20,\n",
    "'зеркальце': 100, 'зонт': 500, 'рубашка': 300} Затем, в программе вводятся данные в\n",
    "формате: предмет_1=вес_1 ...предмет_2=вес_2 пока не будет введена пустая\n",
    "строка. Необходимо введенные данные сохранить в отдельном словаре d, а затем,\n",
    "в словарь things добавить содержимое словаря d. Результат вывести на экран."
   ]
  },
  {
   "cell_type": "code",
   "execution_count": 10,
   "id": "1bb29d5a",
   "metadata": {},
   "outputs": [
    {
     "name": "stdout",
     "output_type": "stream",
     "text": [
      "Введите предмет:Шлюпка=600\n",
      "Введите предмет:\n",
      "{'карандаш': 20, 'зеркальце': 100, 'зонт': 500, 'рубашка': 300, 'Шлюпка': 600}\n"
     ]
    }
   ],
   "source": [
    "d = {}\n",
    "things = {'карандаш': 20, 'зеркальце': 100, 'зонт': 500, 'рубашка': 300}\n",
    "\n",
    "while True:\n",
    "    item = input(\"Введите предмет:\")\n",
    "    if(item == \"\"):\n",
    "        break\n",
    "    data = item.split(\"=\")\n",
    "    d[data[0]] = int(data[1])\n",
    "    \n",
    "things.update(d)\n",
    "print(things)"
   ]
  },
  {
   "cell_type": "markdown",
   "id": "7607ea4a",
   "metadata": {},
   "source": [
    "## Задание №2\n",
    "В аккаунте социальной сети Сергея прокомментировали фотографию.\n",
    "Некоторые посетители оставляли несколько комментариев. Требуется по списку\n",
    "комментариев определить уникальное число комментаторов. Комментарии\n",
    "поступают на вход программы в формате: имя 1: комментарий 1 имя 2:\n",
    "комментарий 2 ... имя N: комментарий N пока не будет введена пустая строка.\n",
    "Также полагается, что имена у разных комментаторов не совпадают. Вывести на\n",
    "экран общее число уникальных комментаторов."
   ]
  },
  {
   "cell_type": "code",
   "execution_count": 21,
   "id": "6afd1fd8",
   "metadata": {},
   "outputs": [
    {
     "name": "stdout",
     "output_type": "stream",
     "text": [
      "Введите комментарий:Иывн:авоаовоа\n",
      "Введите комментарий:\n",
      "Количество комментаторов: 1\n"
     ]
    }
   ],
   "source": [
    "comments = {}\n",
    "\n",
    "while True:\n",
    "    if(item == \"\"):\n",
    "        break\n",
    "    item = input(\"Введите комментарий:\")\n",
    "    data = item.split(\":\")\n",
    "    comments[data[0]] = data[1]\n",
    " \n",
    "print(f\"Количество комментаторов: {len(comments.keys())}\")"
   ]
  },
  {
   "cell_type": "code",
   "execution_count": null,
   "id": "cec1f5ae",
   "metadata": {},
   "outputs": [],
   "source": []
  }
 ],
 "metadata": {
  "kernelspec": {
   "display_name": "Python 3",
   "language": "python",
   "name": "python3"
  },
  "language_info": {
   "codemirror_mode": {
    "name": "ipython",
    "version": 3
   },
   "file_extension": ".py",
   "mimetype": "text/x-python",
   "name": "python",
   "nbconvert_exporter": "python",
   "pygments_lexer": "ipython3",
   "version": "3.8.8"
  }
 },
 "nbformat": 4,
 "nbformat_minor": 5
}
