{
 "cells": [
  {
   "cell_type": "markdown",
   "id": "16430413",
   "metadata": {},
   "source": [
    "# Лабораторная работа 1"
   ]
  },
  {
   "cell_type": "markdown",
   "id": "145c6c6f",
   "metadata": {},
   "source": [
    "#### Задание 1\n",
    "\n",
    "Вводится вещественное значение x. Выполнить вычисление функции: \n",
    "$$ y = x^2 + 2*x + 5$$\n",
    "\n",
    "Результат (значение y) вывести на экран\n",
    "\n",
    "\n",
    "*Просим пользователя ввести число*"
   ]
  },
  {
   "cell_type": "code",
   "execution_count": 1,
   "id": "5ece31ba",
   "metadata": {
    "scrolled": true
   },
   "outputs": [
    {
     "name": "stdout",
     "output_type": "stream",
     "text": [
      "Введите число: 5\n",
      "20.0\n"
     ]
    }
   ],
   "source": [
    "x = float(input(\"Введите число: \"))\n",
    "y = x**2 - 2*x + 5\n",
    "print(y)"
   ]
  },
  {
   "cell_type": "markdown",
   "id": "848b5dd4",
   "metadata": {},
   "source": [
    "#### Задание 2\n",
    "\n",
    "Напишите программу, которая запрашивает у пользователя три целых\n",
    "числовых значения a, b, c. Используя операторы сравнения, определить, можно ли\n",
    "из чисел a, b, c составить треугольник. Вывести на экран полученное булево\n",
    "значение (True или False)."
   ]
  },
  {
   "cell_type": "markdown",
   "id": "9993cf54",
   "metadata": {},
   "source": [
    "*Просим пользователя ввести стороны треугольника*"
   ]
  },
  {
   "cell_type": "code",
   "execution_count": 2,
   "id": "cb281d82",
   "metadata": {},
   "outputs": [
    {
     "name": "stdout",
     "output_type": "stream",
     "text": [
      "Введите сторону А 3\n",
      "Введите сторону B 5\n",
      "Введите сторону C 1\n",
      "False\n"
     ]
    }
   ],
   "source": [
    "a = int(input(\"Введите сторону А \"))\n",
    "b = int(input(\"Введите сторону B \"))\n",
    "c = int(input(\"Введите сторону C \"))\n",
    "\n",
    "if(a < b+c and b < a+c and c < a+b):\n",
    "     print(True)\n",
    "else:\n",
    "     print(False)"
   ]
  },
  {
   "cell_type": "markdown",
   "id": "0bc8f7c7",
   "metadata": {},
   "source": [
    "*Проверяем треугольник на существование и выводим результат*"
   ]
  }
 ],
 "metadata": {
  "kernelspec": {
   "display_name": "Python 3",
   "language": "python",
   "name": "python3"
  },
  "language_info": {
   "codemirror_mode": {
    "name": "ipython",
    "version": 3
   },
   "file_extension": ".py",
   "mimetype": "text/x-python",
   "name": "python",
   "nbconvert_exporter": "python",
   "pygments_lexer": "ipython3",
   "version": "3.8.8"
  }
 },
 "nbformat": 4,
 "nbformat_minor": 5
}
