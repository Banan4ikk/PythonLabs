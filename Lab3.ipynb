{
 "cells": [
  {
   "cell_type": "markdown",
   "id": "5014746e",
   "metadata": {},
   "source": [
    "# Лабортаторная работа №3\n",
    "### Вариант 7\n",
    "\n",
    "### Задание 1\n",
    "Вводится список вещественных чисел. С помощью list comprehension\n",
    "сформировать список, состоящий из элементов введенного списка, имеющих\n",
    "четные индексы (то есть, выбрать все элементы с четными индексами). Результат\n",
    "вывести на экран"
   ]
  },
  {
   "cell_type": "code",
   "execution_count": 44,
   "id": "6759c3c2",
   "metadata": {},
   "outputs": [
    {
     "name": "stdout",
     "output_type": "stream",
     "text": [
      "Числа с четным иднеском:  [60.3, 59.72, 34.58, -84.78, 63.07, -82.08, 32.99, -90.91, -51.28, -67.51]\n"
     ]
    }
   ],
   "source": [
    "listNumbers = [60.30, -98.54, 59.72, -58.81, 34.58, 17.20, -84.78, 78.97, 63.07, -40.17, -82.08, -82.04, 32.99, -8.61, -90.91, -88.71, -51.28, 40.15, -67.51, -94.75]\n",
    "\n",
    "list2 = [item for item in listNumbers if listNumbers.index(item)%2 == 0]\n",
    "\n",
    "print(f\"Числа с четным иднеском:  {list2}\")\n",
    "        "
   ]
  },
  {
   "cell_type": "markdown",
   "id": "e8e34fc2",
   "metadata": {},
   "source": [
    "### Задание 2\n",
    "Вводятся названия три строки: первая строка содержит названия городов,\n",
    "вторая – названия стран, а третья – названия рек. Все названия следуют в строке\n",
    "через пробел. С помощью list comprehension сформируйте единый список из слов,\n",
    "длины которых больше пяти. Результат выведите на экран."
   ]
  },
  {
   "cell_type": "code",
   "execution_count": 46,
   "id": "b40f3a6b",
   "metadata": {},
   "outputs": [
    {
     "name": "stdout",
     "output_type": "stream",
     "text": [
      "Слова с длиной больше 5: \n",
      "['Фрахелей', 'Факсгэнд', 'Бинхул', 'Москва', 'Лос-Анджелес', 'Барнаул', 'Россия', 'Египет', 'Канада', 'Беларусь', 'Украина', 'Армения', 'Енисей', 'Колыма', 'Енисей']\n"
     ]
    }
   ],
   "source": [
    "cities = \"Фрахелей Факсгэнд Бинхул Москва Лос-Анджелес Орел Барнаул Уфа\"\n",
    "countries = \"Россия Египет США Канада Беларусь Украина Армения\"\n",
    "rivers = \"Обь Нил Лена Енисей Колыма Енисей\"\n",
    "\n",
    "allWordsList = [] \n",
    "allWordsList.extend(cities.split(\" \"))\n",
    "allWordsList.extend(countries.split(\" \"))\n",
    "allWordsList.extend(rivers.split(\" \"))\n",
    "\n",
    "finalList = [item for item in allWordsList if len(item) > 5]\n",
    "\n",
    "print(f\"Слова с длиной больше 5: \\n{finalList}\")"
   ]
  },
  {
   "cell_type": "code",
   "execution_count": null,
   "id": "cd76193c",
   "metadata": {},
   "outputs": [],
   "source": []
  }
 ],
 "metadata": {
  "kernelspec": {
   "display_name": "Python 3",
   "language": "python",
   "name": "python3"
  },
  "language_info": {
   "codemirror_mode": {
    "name": "ipython",
    "version": 3
   },
   "file_extension": ".py",
   "mimetype": "text/x-python",
   "name": "python",
   "nbconvert_exporter": "python",
   "pygments_lexer": "ipython3",
   "version": "3.8.8"
  }
 },
 "nbformat": 4,
 "nbformat_minor": 5
}
