{
 "cells": [
  {
   "cell_type": "markdown",
   "id": "4ae8cb63",
   "metadata": {},
   "source": [
    "# Лабараторная 6\n",
    "\n",
    "## Вариант студенты 2"
   ]
  },
  {
   "cell_type": "markdown",
   "id": "a31998d7",
   "metadata": {},
   "source": [
    "### Задание 1:\n",
    "Импорт необходимых библиотек\n",
    "### Задание 2:\n",
    "Импорт данных из csv файла"
   ]
  },
  {
   "cell_type": "code",
   "execution_count": 34,
   "id": "397612c4",
   "metadata": {},
   "outputs": [],
   "source": [
    "import pandas as pd\n",
    "import numpy as np\n",
    "\n",
    "data1 = pd.read_csv(\"C:/Users/Konstantin/Desktop/student-mat.csv\")"
   ]
  },
  {
   "cell_type": "markdown",
   "id": "4ef0b38e",
   "metadata": {},
   "source": [
    "### Задание 3: \n",
    "Вывод первых 10 строк"
   ]
  },
  {
   "cell_type": "code",
   "execution_count": 35,
   "id": "8a389555",
   "metadata": {},
   "outputs": [
    {
     "name": "stdout",
     "output_type": "stream",
     "text": [
      "   school sex  age address famsize Pstatus  Medu  Fedu      Mjob      Fjob  \\\n",
      "0      GP   F   18       U     GT3       A     4     4   at_home   teacher   \n",
      "1      GP   F   17       U     GT3       T     1     1   at_home     other   \n",
      "2      GP   F   15       U     LE3       T     1     1   at_home     other   \n",
      "3      GP   F   15       U     GT3       T     4     2    health  services   \n",
      "4      GP   F   16       U     GT3       T     3     3     other     other   \n",
      "5      GP   M   16       U     LE3       T     4     3  services     other   \n",
      "6      GP   M   16       U     LE3       T     2     2     other     other   \n",
      "7      GP   F   17       U     GT3       A     4     4     other   teacher   \n",
      "8      GP   M   15       U     LE3       A     3     2  services     other   \n",
      "9      GP   M   15       U     GT3       T     3     4     other     other   \n",
      "10     GP   F   15       U     GT3       T     4     4   teacher    health   \n",
      "11     GP   F   15       U     GT3       T     2     1  services     other   \n",
      "12     GP   M   15       U     LE3       T     4     4    health  services   \n",
      "13     GP   M   15       U     GT3       T     4     3   teacher     other   \n",
      "14     GP   M   15       U     GT3       A     2     2     other     other   \n",
      "15     GP   F   16       U     GT3       T     4     4    health     other   \n",
      "16     GP   F   16       U     GT3       T     4     4  services  services   \n",
      "17     GP   F   16       U     GT3       T     3     3     other     other   \n",
      "18     GP   M   17       U     GT3       T     3     2  services  services   \n",
      "19     GP   M   16       U     LE3       T     4     3    health     other   \n",
      "\n",
      "    ... famrel freetime  goout  Dalc  Walc health absences  G1  G2  G3  \n",
      "0   ...      4        3      4     1     1      3        6   5   6   6  \n",
      "1   ...      5        3      3     1     1      3        4   5   5   6  \n",
      "2   ...      4        3      2     2     3      3       10   7   8  10  \n",
      "3   ...      3        2      2     1     1      5        2  15  14  15  \n",
      "4   ...      4        3      2     1     2      5        4   6  10  10  \n",
      "5   ...      5        4      2     1     2      5       10  15  15  15  \n",
      "6   ...      4        4      4     1     1      3        0  12  12  11  \n",
      "7   ...      4        1      4     1     1      1        6   6   5   6  \n",
      "8   ...      4        2      2     1     1      1        0  16  18  19  \n",
      "9   ...      5        5      1     1     1      5        0  14  15  15  \n",
      "10  ...      3        3      3     1     2      2        0  10   8   9  \n",
      "11  ...      5        2      2     1     1      4        4  10  12  12  \n",
      "12  ...      4        3      3     1     3      5        2  14  14  14  \n",
      "13  ...      5        4      3     1     2      3        2  10  10  11  \n",
      "14  ...      4        5      2     1     1      3        0  14  16  16  \n",
      "15  ...      4        4      4     1     2      2        4  14  14  14  \n",
      "16  ...      3        2      3     1     2      2        6  13  14  14  \n",
      "17  ...      5        3      2     1     1      4        4   8  10  10  \n",
      "18  ...      5        5      5     2     4      5       16   6   5   5  \n",
      "19  ...      3        1      3     1     3      5        4   8  10  10  \n",
      "\n",
      "[20 rows x 33 columns]\n"
     ]
    }
   ],
   "source": [
    "print(data1.head(20))"
   ]
  },
  {
   "cell_type": "markdown",
   "id": "b27346b0",
   "metadata": {},
   "source": [
    "### Задание 4: \n",
    "Сколько строк и столбцов в наборе данных?"
   ]
  },
  {
   "cell_type": "code",
   "execution_count": 7,
   "id": "a0a81382",
   "metadata": {},
   "outputs": [
    {
     "name": "stdout",
     "output_type": "stream",
     "text": [
      "    school sex  age address famsize Pstatus  Medu  Fedu      Mjob      Fjob  \\\n",
      "0       GP   F   18       U     GT3       A     4     4   at_home   teacher   \n",
      "1       GP   F   17       U     GT3       T     1     1   at_home     other   \n",
      "2       GP   F   15       U     LE3       T     1     1   at_home     other   \n",
      "3       GP   F   15       U     GT3       T     4     2    health  services   \n",
      "4       GP   F   16       U     GT3       T     3     3     other     other   \n",
      "..     ...  ..  ...     ...     ...     ...   ...   ...       ...       ...   \n",
      "390     MS   M   20       U     LE3       A     2     2  services  services   \n",
      "391     MS   M   17       U     LE3       T     3     1  services  services   \n",
      "392     MS   M   21       R     GT3       T     1     1     other     other   \n",
      "393     MS   M   18       R     LE3       T     3     2  services     other   \n",
      "394     MS   M   19       U     LE3       T     1     1     other   at_home   \n",
      "\n",
      "     ... famrel freetime  goout  Dalc  Walc health absences  G1  G2  G3  \n",
      "0    ...      4        3      4     1     1      3        6   5   6   6  \n",
      "1    ...      5        3      3     1     1      3        4   5   5   6  \n",
      "2    ...      4        3      2     2     3      3       10   7   8  10  \n",
      "3    ...      3        2      2     1     1      5        2  15  14  15  \n",
      "4    ...      4        3      2     1     2      5        4   6  10  10  \n",
      "..   ...    ...      ...    ...   ...   ...    ...      ...  ..  ..  ..  \n",
      "390  ...      5        5      4     4     5      4       11   9   9   9  \n",
      "391  ...      2        4      5     3     4      2        3  14  16  16  \n",
      "392  ...      5        5      3     3     3      3        3  10   8   7  \n",
      "393  ...      4        4      1     3     4      5        0  11  12  10  \n",
      "394  ...      3        2      3     3     3      5        5   8   9   9  \n",
      "\n",
      "[395 rows x 33 columns]\n"
     ]
    }
   ],
   "source": [
    "print(data)"
   ]
  },
  {
   "cell_type": "markdown",
   "id": "7a1a8e39",
   "metadata": {},
   "source": [
    "Делаем вывод, что в этом наборе данных 395 строк и 33 столбца"
   ]
  },
  {
   "cell_type": "markdown",
   "id": "ab4d11f6",
   "metadata": {},
   "source": [
    "### Задание 5: \n",
    "Вывод имен столбцов"
   ]
  },
  {
   "cell_type": "code",
   "execution_count": 8,
   "id": "9b98c2b2",
   "metadata": {},
   "outputs": [
    {
     "name": "stdout",
     "output_type": "stream",
     "text": [
      "Index(['school', 'sex', 'age', 'address', 'famsize', 'Pstatus', 'Medu', 'Fedu',\n",
      "       'Mjob', 'Fjob', 'reason', 'guardian', 'traveltime', 'studytime',\n",
      "       'failures', 'schoolsup', 'famsup', 'paid', 'activities', 'nursery',\n",
      "       'higher', 'internet', 'romantic', 'famrel', 'freetime', 'goout', 'Dalc',\n",
      "       'Walc', 'health', 'absences', 'G1', 'G2', 'G3'],\n",
      "      dtype='object')\n"
     ]
    }
   ],
   "source": [
    "print(data.columns)"
   ]
  },
  {
   "cell_type": "markdown",
   "id": "9cf674dd",
   "metadata": {},
   "source": [
    "### Задание 6: \n",
    "Что является индексом набора данных?\n",
    "\n",
    "В данном наборе данных индексом является номер строки"
   ]
  },
  {
   "cell_type": "markdown",
   "id": "09f0ce43",
   "metadata": {},
   "source": [
    "### Задание 7: \n",
    "Создайте новый датафрейм fam, выполнив срез от столбца school до\n",
    "столбца famrel и удалив все столбцы от traveltime до romantic\n",
    "включительно (оставив только характеристики семьи)"
   ]
  },
  {
   "cell_type": "code",
   "execution_count": 9,
   "id": "c3dbe9f4",
   "metadata": {},
   "outputs": [
    {
     "name": "stdout",
     "output_type": "stream",
     "text": [
      "    school sex  age address famsize Pstatus  Medu  Fedu      Mjob      Fjob  \\\n",
      "0       GP   F   18       U     GT3       A     4     4   at_home   teacher   \n",
      "1       GP   F   17       U     GT3       T     1     1   at_home     other   \n",
      "2       GP   F   15       U     LE3       T     1     1   at_home     other   \n",
      "3       GP   F   15       U     GT3       T     4     2    health  services   \n",
      "4       GP   F   16       U     GT3       T     3     3     other     other   \n",
      "..     ...  ..  ...     ...     ...     ...   ...   ...       ...       ...   \n",
      "390     MS   M   20       U     LE3       A     2     2  services  services   \n",
      "391     MS   M   17       U     LE3       T     3     1  services  services   \n",
      "392     MS   M   21       R     GT3       T     1     1     other     other   \n",
      "393     MS   M   18       R     LE3       T     3     2  services     other   \n",
      "394     MS   M   19       U     LE3       T     1     1     other   at_home   \n",
      "\n",
      "     ... failures schoolsup  famsup  paid  activities nursery higher internet  \\\n",
      "0    ...        0       yes      no    no          no     yes    yes       no   \n",
      "1    ...        0        no     yes    no          no      no    yes      yes   \n",
      "2    ...        3       yes      no   yes          no     yes    yes      yes   \n",
      "3    ...        0        no     yes   yes         yes     yes    yes      yes   \n",
      "4    ...        0        no     yes   yes          no     yes    yes       no   \n",
      "..   ...      ...       ...     ...   ...         ...     ...    ...      ...   \n",
      "390  ...        2        no     yes   yes          no     yes    yes       no   \n",
      "391  ...        0        no      no    no          no      no    yes      yes   \n",
      "392  ...        3        no      no    no          no      no    yes       no   \n",
      "393  ...        0        no      no    no          no      no    yes      yes   \n",
      "394  ...        0        no      no    no          no     yes    yes      yes   \n",
      "\n",
      "    romantic famrel  \n",
      "0         no      4  \n",
      "1         no      5  \n",
      "2         no      4  \n",
      "3        yes      3  \n",
      "4         no      4  \n",
      "..       ...    ...  \n",
      "390       no      5  \n",
      "391       no      2  \n",
      "392       no      5  \n",
      "393       no      4  \n",
      "394       no      3  \n",
      "\n",
      "[395 rows x 24 columns]\n"
     ]
    }
   ],
   "source": [
    "fam = data.loc[:, slice('school','famrel',1)]\n",
    "#fam.drop(['traveltime','romantic'],axis = 1)\n",
    "print(fam)"
   ]
  },
  {
   "cell_type": "markdown",
   "id": "22b239b7",
   "metadata": {},
   "source": [
    "### Задание 8: \n",
    "Определите процент городских и сельских студентов в каждой школе"
   ]
  },
  {
   "cell_type": "code",
   "execution_count": 31,
   "id": "63d2db59",
   "metadata": {},
   "outputs": [
    {
     "name": "stdout",
     "output_type": "stream",
     "text": [
      "Процент городких жителей в \"GP\" = 72%\n",
      "Процент сельских жителей в \"GP\" = 16%\n",
      "Процент городких жителей в \"MS\" = 5%\n",
      "Процент сельских жителей в \"MS\" = 6%\n"
     ]
    }
   ],
   "source": [
    "GP_School = data[data['school'] == 'GP']\n",
    "MS_School = data[data['school'] == 'MS']\n",
    "\n",
    "\n",
    "GP_City_percent = len(GP_School[GP_School['address'] == 'U'])/(len(data.index))\n",
    "print(f'Процент городких жителей в \"GP\" = {round(GP_City_percent*100)}%')\n",
    "\n",
    "GP_County_percent = len(GP_School[GP_School['address'] == 'R'])/(len(data.index))\n",
    "print(f'Процент сельских жителей в \"GP\" = {round(GP_County_percent*100)}%')\n",
    "\n",
    "MS_City_percent = len(MS_School[MS_School['address'] == 'U'])/(len(data.index))\n",
    "print(f'Процент городких жителей в \"MS\" = {round(MS_City_percent*100)}%')\n",
    "\n",
    "MS_County_percent = len(MS_School[MS_School['address'] == 'R'])/(len(data.index))\n",
    "print(f'Процент сельских жителей в \"MS\" = {round(MS_County_percent*100)}%')\n",
    "\n"
   ]
  },
  {
   "cell_type": "markdown",
   "id": "000ec841",
   "metadata": {},
   "source": [
    "### Задание 9: \n",
    "У какого процента студентов (по школам) и мать и отец имеют высшее образование?"
   ]
  },
  {
   "cell_type": "code",
   "execution_count": 11,
   "id": "f8204806",
   "metadata": {},
   "outputs": [
    {
     "name": "stdout",
     "output_type": "stream",
     "text": [
      "Процент родителей с высшим образованием в \"GP\" = 22%\n",
      "Процент родителей с высшим образованием в \"MS\" = 2%\n"
     ]
    }
   ],
   "source": [
    "GP_Parents = len(GP_School[GP_School['Medu' and 'Fedu'] == 4])/(len(data.index))\n",
    "print(f'Процент родителей с высшим образованием в \"GP\" = {round(GP_Parents*100)}%')\n",
    "\n",
    "MS_Parents = len(MS_School[MS_School['Medu' and 'Fedu'] == 4])/(len(data.index))\n",
    "print(f'Процент родителей с высшим образованием в \"MS\" = {round(MS_Parents*100)}%')"
   ]
  },
  {
   "cell_type": "markdown",
   "id": "4df2725a",
   "metadata": {},
   "source": [
    "### Задание 10:\n",
    "У какого процента студентов (по школам) и мать и отец вообще не имеют образования?"
   ]
  },
  {
   "cell_type": "code",
   "execution_count": 12,
   "id": "6673be4c",
   "metadata": {},
   "outputs": [
    {
     "name": "stdout",
     "output_type": "stream",
     "text": [
      "Процент родителей без образования в \"GP\" = 0.5063291139240507%\n",
      "Процент родителей без образования в \"MS\" = 0.0%\n"
     ]
    }
   ],
   "source": [
    "GP_Parents_none = len(GP_School[GP_School['Medu' and 'Fedu'] == 0])/(len(data.index))\n",
    "print(f'Процент родителей без образования в \"GP\" = {GP_Parents_none*100}%')\n",
    "\n",
    "MS_Parents_none = len(MS_School[MS_School['Medu' and 'Fedu'] == 0])/(len(data.index))\n",
    "print(f'Процент родителей без образования в \"MS\" = {MS_Parents_none*100}%')"
   ]
  },
  {
   "cell_type": "markdown",
   "id": "5edcc7c2",
   "metadata": {},
   "source": [
    "### Задание 11: \n",
    "Какой процент родителей, имеющих высшее образование, проживает совместно?"
   ]
  },
  {
   "cell_type": "code",
   "execution_count": 13,
   "id": "826a44ac",
   "metadata": {},
   "outputs": [
    {
     "name": "stdout",
     "output_type": "stream",
     "text": [
      "Процент родителей с высшим образованием, которые живут совместно = 21%\n"
     ]
    }
   ],
   "source": [
    "Parents = data[data['Medu' and 'Fedu'] == 4]\n",
    "parentsTogether = len(Parents[Parents['Pstatus'] == 'T'])/(len(data.index))\n",
    "\n",
    "print(f'Процент родителей с высшим образованием, которые живут совместно = {round(parentsTogether*100)}%')"
   ]
  },
  {
   "cell_type": "markdown",
   "id": "31f1ae20",
   "metadata": {},
   "source": [
    "### Задание 12:\n",
    "Определите процент семей, в которых один из родителей имеет высшее образование, а другой не имеет, но проживают совместно"
   ]
  },
  {
   "cell_type": "code",
   "execution_count": 14,
   "id": "efc2e7bb",
   "metadata": {},
   "outputs": [
    {
     "name": "stdout",
     "output_type": "stream",
     "text": [
      "Процент семей, в которых один из родителей имеет высшее образование, а другой не имеет, но которые живут совместно = 70.0%\n"
     ]
    }
   ],
   "source": [
    "ParentsHigh = data[data['Medu' and 'Fedu'] != 4]\n",
    "\n",
    "parentsTogetherHigh = ParentsHigh[ParentsHigh['Pstatus'] == 'T']\n",
    "\n",
    "print('Процент семей, в которых один из родителей имеет высшее образование' +\n",
    "      f', а другой не имеет, но которые живут совместно = {round(len(parentsTogetherHigh)/(len(data.index)),1)*100}%')"
   ]
  },
  {
   "cell_type": "markdown",
   "id": "323f28d9",
   "metadata": {},
   "source": [
    "### Задание 13:\n",
    "Какое качество семейных отношений в этих семьях?"
   ]
  },
  {
   "cell_type": "code",
   "execution_count": 16,
   "id": "dadd8786",
   "metadata": {},
   "outputs": [
    {
     "ename": "KeyError",
     "evalue": "\"None of [Int64Index([5, 4, 3, 4, 5, 4, 5, 5, 5, 5,\\n            ...\\n            4, 5, 5, 5, 4, 1, 2, 5, 4, 3],\\n           dtype='int64', length=273)] are in the [columns]\"",
     "output_type": "error",
     "traceback": [
      "\u001b[1;31m---------------------------------------------------------------------------\u001b[0m",
      "\u001b[1;31mKeyError\u001b[0m                                  Traceback (most recent call last)",
      "\u001b[1;32mC:\\Users\\KONSTA~1\\AppData\\Local\\Temp/ipykernel_15464/3792889040.py\u001b[0m in \u001b[0;36m<module>\u001b[1;34m\u001b[0m\n\u001b[1;32m----> 1\u001b[1;33m \u001b[0mprint\u001b[0m\u001b[1;33m(\u001b[0m\u001b[0mpd\u001b[0m\u001b[1;33m.\u001b[0m\u001b[0mInt64Index\u001b[0m\u001b[1;33m(\u001b[0m\u001b[0mparentsTogetherHigh\u001b[0m\u001b[1;33m[\u001b[0m\u001b[0mparentsTogetherHigh\u001b[0m\u001b[1;33m[\u001b[0m\u001b[1;34m'famrel'\u001b[0m\u001b[1;33m]\u001b[0m\u001b[1;33m]\u001b[0m\u001b[1;33m)\u001b[0m\u001b[1;33m)\u001b[0m\u001b[1;33m\u001b[0m\u001b[1;33m\u001b[0m\u001b[0m\n\u001b[0m",
      "\u001b[1;32m~\\anaconda3\\lib\\site-packages\\pandas\\core\\frame.py\u001b[0m in \u001b[0;36m__getitem__\u001b[1;34m(self, key)\u001b[0m\n\u001b[0;32m   3462\u001b[0m             \u001b[1;32mif\u001b[0m \u001b[0mis_iterator\u001b[0m\u001b[1;33m(\u001b[0m\u001b[0mkey\u001b[0m\u001b[1;33m)\u001b[0m\u001b[1;33m:\u001b[0m\u001b[1;33m\u001b[0m\u001b[1;33m\u001b[0m\u001b[0m\n\u001b[0;32m   3463\u001b[0m                 \u001b[0mkey\u001b[0m \u001b[1;33m=\u001b[0m \u001b[0mlist\u001b[0m\u001b[1;33m(\u001b[0m\u001b[0mkey\u001b[0m\u001b[1;33m)\u001b[0m\u001b[1;33m\u001b[0m\u001b[1;33m\u001b[0m\u001b[0m\n\u001b[1;32m-> 3464\u001b[1;33m             \u001b[0mindexer\u001b[0m \u001b[1;33m=\u001b[0m \u001b[0mself\u001b[0m\u001b[1;33m.\u001b[0m\u001b[0mloc\u001b[0m\u001b[1;33m.\u001b[0m\u001b[0m_get_listlike_indexer\u001b[0m\u001b[1;33m(\u001b[0m\u001b[0mkey\u001b[0m\u001b[1;33m,\u001b[0m \u001b[0maxis\u001b[0m\u001b[1;33m=\u001b[0m\u001b[1;36m1\u001b[0m\u001b[1;33m)\u001b[0m\u001b[1;33m[\u001b[0m\u001b[1;36m1\u001b[0m\u001b[1;33m]\u001b[0m\u001b[1;33m\u001b[0m\u001b[1;33m\u001b[0m\u001b[0m\n\u001b[0m\u001b[0;32m   3465\u001b[0m \u001b[1;33m\u001b[0m\u001b[0m\n\u001b[0;32m   3466\u001b[0m         \u001b[1;31m# take() does not accept boolean indexers\u001b[0m\u001b[1;33m\u001b[0m\u001b[1;33m\u001b[0m\u001b[0m\n",
      "\u001b[1;32m~\\anaconda3\\lib\\site-packages\\pandas\\core\\indexing.py\u001b[0m in \u001b[0;36m_get_listlike_indexer\u001b[1;34m(self, key, axis)\u001b[0m\n\u001b[0;32m   1312\u001b[0m             \u001b[0mkeyarr\u001b[0m\u001b[1;33m,\u001b[0m \u001b[0mindexer\u001b[0m\u001b[1;33m,\u001b[0m \u001b[0mnew_indexer\u001b[0m \u001b[1;33m=\u001b[0m \u001b[0max\u001b[0m\u001b[1;33m.\u001b[0m\u001b[0m_reindex_non_unique\u001b[0m\u001b[1;33m(\u001b[0m\u001b[0mkeyarr\u001b[0m\u001b[1;33m)\u001b[0m\u001b[1;33m\u001b[0m\u001b[1;33m\u001b[0m\u001b[0m\n\u001b[0;32m   1313\u001b[0m \u001b[1;33m\u001b[0m\u001b[0m\n\u001b[1;32m-> 1314\u001b[1;33m         \u001b[0mself\u001b[0m\u001b[1;33m.\u001b[0m\u001b[0m_validate_read_indexer\u001b[0m\u001b[1;33m(\u001b[0m\u001b[0mkeyarr\u001b[0m\u001b[1;33m,\u001b[0m \u001b[0mindexer\u001b[0m\u001b[1;33m,\u001b[0m \u001b[0maxis\u001b[0m\u001b[1;33m)\u001b[0m\u001b[1;33m\u001b[0m\u001b[1;33m\u001b[0m\u001b[0m\n\u001b[0m\u001b[0;32m   1315\u001b[0m \u001b[1;33m\u001b[0m\u001b[0m\n\u001b[0;32m   1316\u001b[0m         if needs_i8_conversion(ax.dtype) or isinstance(\n",
      "\u001b[1;32m~\\anaconda3\\lib\\site-packages\\pandas\\core\\indexing.py\u001b[0m in \u001b[0;36m_validate_read_indexer\u001b[1;34m(self, key, indexer, axis)\u001b[0m\n\u001b[0;32m   1372\u001b[0m                 \u001b[1;32mif\u001b[0m \u001b[0muse_interval_msg\u001b[0m\u001b[1;33m:\u001b[0m\u001b[1;33m\u001b[0m\u001b[1;33m\u001b[0m\u001b[0m\n\u001b[0;32m   1373\u001b[0m                     \u001b[0mkey\u001b[0m \u001b[1;33m=\u001b[0m \u001b[0mlist\u001b[0m\u001b[1;33m(\u001b[0m\u001b[0mkey\u001b[0m\u001b[1;33m)\u001b[0m\u001b[1;33m\u001b[0m\u001b[1;33m\u001b[0m\u001b[0m\n\u001b[1;32m-> 1374\u001b[1;33m                 \u001b[1;32mraise\u001b[0m \u001b[0mKeyError\u001b[0m\u001b[1;33m(\u001b[0m\u001b[1;34mf\"None of [{key}] are in the [{axis_name}]\"\u001b[0m\u001b[1;33m)\u001b[0m\u001b[1;33m\u001b[0m\u001b[1;33m\u001b[0m\u001b[0m\n\u001b[0m\u001b[0;32m   1375\u001b[0m \u001b[1;33m\u001b[0m\u001b[0m\n\u001b[0;32m   1376\u001b[0m             \u001b[0mnot_found\u001b[0m \u001b[1;33m=\u001b[0m \u001b[0mlist\u001b[0m\u001b[1;33m(\u001b[0m\u001b[0mensure_index\u001b[0m\u001b[1;33m(\u001b[0m\u001b[0mkey\u001b[0m\u001b[1;33m)\u001b[0m\u001b[1;33m[\u001b[0m\u001b[0mmissing_mask\u001b[0m\u001b[1;33m.\u001b[0m\u001b[0mnonzero\u001b[0m\u001b[1;33m(\u001b[0m\u001b[1;33m)\u001b[0m\u001b[1;33m[\u001b[0m\u001b[1;36m0\u001b[0m\u001b[1;33m]\u001b[0m\u001b[1;33m]\u001b[0m\u001b[1;33m.\u001b[0m\u001b[0munique\u001b[0m\u001b[1;33m(\u001b[0m\u001b[1;33m)\u001b[0m\u001b[1;33m)\u001b[0m\u001b[1;33m\u001b[0m\u001b[1;33m\u001b[0m\u001b[0m\n",
      "\u001b[1;31mKeyError\u001b[0m: \"None of [Int64Index([5, 4, 3, 4, 5, 4, 5, 5, 5, 5,\\n            ...\\n            4, 5, 5, 5, 4, 1, 2, 5, 4, 3],\\n           dtype='int64', length=273)] are in the [columns]\""
     ]
    }
   ],
   "source": [
    "print(pd.Int64Index(parentsTogetherHigh[parentsTogetherHigh['famrel']]))"
   ]
  },
  {
   "cell_type": "markdown",
   "id": "2d48b4cb",
   "metadata": {},
   "source": [
    "## Задание 14:\n",
    "14.У скольких студентов работа одного или обоих родителей связана с\n",
    "гражданскими услугами (административными или полицейскими)?"
   ]
  },
  {
   "cell_type": "code",
   "execution_count": 23,
   "id": "7cc6fc33",
   "metadata": {},
   "outputs": [
    {
     "name": "stdout",
     "output_type": "stream",
     "text": [
      "0\n"
     ]
    }
   ],
   "source": [
    "work = len(data[data['Mjob' or 'Fjob'] == 'reputation'])\n",
    "\n",
    "print(work)"
   ]
  },
  {
   "cell_type": "code",
   "execution_count": null,
   "id": "4fe46be6",
   "metadata": {},
   "outputs": [],
   "source": []
  }
 ],
 "metadata": {
  "kernelspec": {
   "display_name": "Python 3 (ipykernel)",
   "language": "python",
   "name": "python3"
  },
  "language_info": {
   "codemirror_mode": {
    "name": "ipython",
    "version": 3
   },
   "file_extension": ".py",
   "mimetype": "text/x-python",
   "name": "python",
   "nbconvert_exporter": "python",
   "pygments_lexer": "ipython3",
   "version": "3.9.7"
  }
 },
 "nbformat": 4,
 "nbformat_minor": 5
}
