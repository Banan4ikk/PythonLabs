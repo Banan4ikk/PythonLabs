{
 "cells": [
  {
   "cell_type": "markdown",
   "id": "a1b77da4",
   "metadata": {},
   "source": [
    "# Лабораторная 2\n",
    "\n",
    "### Вариант 7\n",
    "\n",
    "Вводится вещественное значение x – аргумент функции: $$ y(x) = x^2-2 $$\n",
    "помощью F-строки вывести на экран сообщение (без кавычек): «Значение функции\n",
    "y(x) = число_1, при значении x = число_2». Величины (число_1 и число_2)\n",
    "выводить с точностью до сотых.\n",
    "\n",
    "#### Задание 1"
   ]
  },
  {
   "cell_type": "code",
   "execution_count": 31,
   "id": "5d69cb16",
   "metadata": {},
   "outputs": [
    {
     "name": "stdout",
     "output_type": "stream",
     "text": [
      "Введите x 4.5\n",
      " y(x) = 18.25, при значении x = 4.50\n"
     ]
    }
   ],
   "source": [
    "import math\n",
    "\n",
    "x = float(input(\"Введите x \"))\n",
    "y = x**2 - 2\n",
    "Formatted = \"{:.2f}\"\n",
    "print(f\" y(x) = {Formatted.format(y)}, при значении x = {Formatted.format(x)}\")\n"
   ]
  },
  {
   "cell_type": "markdown",
   "id": "0d98a3fe",
   "metadata": {},
   "source": [
    "#### Задание 2\n",
    "Вводится список по четырем смартфонам в формате: название_1:цена_1 ...\n",
    "название_4:цена_4 Здесь цена – это вещественное число. Преобразовать эту\n",
    "информацию в список вида: [['название_1', цена_1], ['название_2', цена_2], ...]\n",
    "Результат (список) вывести на экран."
   ]
  },
  {
   "cell_type": "code",
   "execution_count": 32,
   "id": "a23f3efb",
   "metadata": {},
   "outputs": [
    {
     "name": "stdout",
     "output_type": "stream",
     "text": [
      "[['Samsung', 43991.43], ['Apple', 100994.54], ['Huawei', 20998.94], ['Meizu', 19834.54]]\n"
     ]
    }
   ],
   "source": [
    "phones = {\"Samsung\":43991.43, \"Apple\": 100994.54, \"Huawei\": 20998.94, \"Meizu\": 19834.54}\n",
    "\n",
    "listPhones = []\n",
    "for item, key in phones.items():\n",
    "    listPhones.append([item,key])\n",
    "print(listPhones)"
   ]
  },
  {
   "cell_type": "code",
   "execution_count": null,
   "id": "90303b00",
   "metadata": {},
   "outputs": [],
   "source": []
  }
 ],
 "metadata": {
  "kernelspec": {
   "display_name": "Python 3",
   "language": "python",
   "name": "python3"
  },
  "language_info": {
   "codemirror_mode": {
    "name": "ipython",
    "version": 3
   },
   "file_extension": ".py",
   "mimetype": "text/x-python",
   "name": "python",
   "nbconvert_exporter": "python",
   "pygments_lexer": "ipython3",
   "version": "3.8.8"
  }
 },
 "nbformat": 4,
 "nbformat_minor": 5
}
